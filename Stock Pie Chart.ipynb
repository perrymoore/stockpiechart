{
 "cells": [
  {
   "cell_type": "code",
   "execution_count": 4,
   "metadata": {},
   "outputs": [],
   "source": [
    "import yfinance as yf\n",
    "import matplotlib.pyplot as plt\n",
    "import numpy as np\n",
    "from datetime import date\n",
    "\n",
    "#build function to store tickers\n",
    "def tickerStore(empty_list,positions):\n",
    "    for Pos in range(0,positions):\n",
    "        store_ticker = str(input(\"Enter ticker here: \"))\n",
    "        store_ticker = store_ticker.upper()\n",
    "        empty_list.append(store_ticker)\n",
    "        \n",
    "#build function to get data\n",
    "def get_data(stock):\n",
    "    ticker = yf.Ticker(stock)\n",
    "    tickerPrice = ticker.history(period = '1d', start = modified_date)\n",
    "    df = tickerPrice\n",
    "    return df['Close']\n",
    "\n",
    "#build function to assign and store proportions of porfolio\n",
    "def percent_assignment(empty_list1, empty_list2, empty_list3, amount, positions):\n",
    "    for Pos in range(0,positions):\n",
    "        empty_list1.append(int(input('How many shares of %s do you have?: '%ticker_list[Pos])))\n",
    "        empty_list2.append(empty_list1[Pos]*data_list[Pos][0])\n",
    "        amount += empty_list2[Pos]\n",
    "\n",
    "    for Pos in range(0,positions):\n",
    "        empty_list3.append(100 * empty_list2[Pos]/amount)"
   ]
  },
  {
   "cell_type": "code",
   "execution_count": 5,
   "metadata": {},
   "outputs": [
    {
     "name": "stdout",
     "output_type": "stream",
     "text": [
      "How many different stocks do you have?: 5\n",
      "Enter ticker here: aapl\n",
      "Enter ticker here: aal\n",
      "Enter ticker here: ba\n",
      "Enter ticker here: roku\n",
      "Enter ticker here: ttcf\n",
      "How many shares of AAPL do you have?: 2\n",
      "How many shares of AAL do you have?: 4\n",
      "How many shares of BA do you have?: 6\n",
      "How many shares of ROKU do you have?: 8\n",
      "How many shares of TTCF do you have?: 10\n"
     ]
    }
   ],
   "source": [
    "#date input and modify date to Yahoo's (YYYY-MM-DD)\n",
    "today = date.today()\n",
    "date = today.strftime(\"%m-%d-%Y\")\n",
    "modified_date = date[6:] + '-' + date[0:2] + '-' + date[3:5]\n",
    "\n",
    "#input for position number\n",
    "numPos = int(input(\"How many different stocks do you have?: \"))\n",
    "\n",
    "#initializing arguments for functions\n",
    "data_list = []\n",
    "new_data = 0\n",
    "ticker_list = []\n",
    "numStock = []\n",
    "equity_list = []\n",
    "percent_equity = []\n",
    "dollarAmount = 0\n",
    "\n",
    "#main\n",
    "tickerStore(ticker_list,numPos)\n",
    "for Pos in range(0,numPos):\n",
    "    new_data = get_data(ticker_list[Pos])\n",
    "    add_data = new_data.to_list()\n",
    "    data_list.append(add_data)\n",
    "percent_assignment(numStock, equity_list, percent_equity, dollarAmount, numPos)"
   ]
  },
  {
   "cell_type": "code",
   "execution_count": 6,
   "metadata": {
    "scrolled": true
   },
   "outputs": [
    {
     "data": {
      "image/png": "[encoded data removed]",
      "text/plain": [
       "<Figure size 432x288 with 1 Axes>"
      ]
     },
     "metadata": {},
     "output_type": "display_data"
    }
   ],
   "source": [
    "#plot\n",
    "labels = ticker_list\n",
    "sizes = percent_equity\n",
    "fig1, ax1 = plt.subplots()\n",
    "ax1.pie(sizes, labels=labels, autopct='%1.1f%%',\n",
    "        shadow=True, startangle=90)\n",
    "ax1.axis('equal')\n",
    "plt.show()"
   ]
  },
  {
   "cell_type": "code",
   "execution_count": null,
   "metadata": {},
   "outputs": [],
   "source": []
  },
  {
   "cell_type": "code",
   "execution_count": null,
   "metadata": {},
   "outputs": [],
   "source": []
  },
  {
   "cell_type": "code",
   "execution_count": null,
   "metadata": {},
   "outputs": [],
   "source": []
  }
 ],
 "metadata": {
  "kernelspec": {
   "display_name": "Python 3",
   "language": "python",
   "name": "python3"
  },
  "language_info": {
   "codemirror_mode": {
    "name": "ipython",
    "version": 3
   },
   "file_extension": ".py",
   "mimetype": "text/x-python",
   "name": "python",
   "nbconvert_exporter": "python",
   "pygments_lexer": "ipython3",
   "version": "3.7.6"
  }
 },
 "nbformat": 4,
 "nbformat_minor": 4
}
