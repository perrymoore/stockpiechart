{
 "cells": [
  {
   "cell_type": "code",
   "execution_count": 1,
   "metadata": {},
   "outputs": [
    {
     "name": "stdout",
     "output_type": "stream",
     "text": [
      "Enter todays date in w/ dashes (YYYY-MM-DD): 2020-12-21\n",
      "How many different stocks do you have?: 1\n",
      "Enter ticker here: msft\n"
     ]
    }
   ],
   "source": [
    "import yfinance as yf\n",
    "import matplotlib.pyplot as plt\n",
    "import numpy as np\n",
    "#inputs for dates and the quantity of different stocks\n",
    "date = str(input(\"Enter todays date in w/ dashes (YYYY-MM-DD): \"))\n",
    "numPos = int(input(\"How many different stocks do you have?: \"))\n",
    "#for loop to store tickers in a list\n",
    "\n",
    "ticker_list = []\n",
    "for Pos in range(0,numPos):\n",
    "    store_ticker = str(input(\"Enter ticker here: \"))\n",
    "    store_ticker = store_ticker.upper()\n",
    "    ticker_list.append(store_ticker)"
   ]
  },
  {
   "cell_type": "code",
   "execution_count": 2,
   "metadata": {},
   "outputs": [],
   "source": [
    "#build function to get data\n",
    "def get_data(stock):\n",
    "    ticker = yf.Ticker(stock)\n",
    "    tickerPrice = ticker.history(period = '1d', start = date)\n",
    "    df = tickerPrice\n",
    "    return df['Close']\n",
    "\n",
    "data_list = []\n",
    "for Pos in range(0,numPos):\n",
    "    new_data = get_data(ticker_list[Pos])\n",
    "    add_data = new_data.to_list()\n",
    "    data_list += add_data"
   ]
  },
  {
   "cell_type": "code",
   "execution_count": 3,
   "metadata": {
    "scrolled": true
   },
   "outputs": [
    {
     "name": "stdout",
     "output_type": "stream",
     "text": [
      "How many shares of MSFT do you have?: 2\n"
     ]
    }
   ],
   "source": [
    "#build function that makes proper proportions and assigns labels\n",
    "numStock = []\n",
    "equity_list = []\n",
    "dollarAmount = 0\n",
    "percent_equity = []\n",
    "for Pos in range(0,numPos):\n",
    "    numStock.append(int(input('How many shares of %s do you have?: '%ticker_list[Pos])))\n",
    "    equity_list.append(numStock[Pos]*data_list[Pos])\n",
    "    dollarAmount += equity_list[Pos]\n",
    "for Pos in range(0,numPos):\n",
    "    percent_equity.append(100 * equity_list[Pos]/dollarAmount)   "
   ]
  },
  {
   "cell_type": "code",
   "execution_count": 4,
   "metadata": {},
   "outputs": [
    {
     "data": {
      "image/png": "[encoded data removed]",
      "text/plain": [
       "<Figure size 432x288 with 1 Axes>"
      ]
     },
     "metadata": {},
     "output_type": "display_data"
    }
   ],
   "source": [
    "labels = ticker_list\n",
    "sizes = percent_equity\n",
    "fig1, ax1 = plt.subplots()\n",
    "ax1.pie(sizes, labels=labels, autopct='%1.1f%%',\n",
    "        shadow=True, startangle=90)\n",
    "ax1.axis('equal')\n",
    "plt.show()"
   ]
  },
  {
   "cell_type": "code",
   "execution_count": 5,
   "metadata": {},
   "outputs": [
    {
     "data": {
      "text/plain": [
       "[445.18]"
      ]
     },
     "execution_count": 5,
     "metadata": {},
     "output_type": "execute_result"
    }
   ],
   "source": []
  },
  {
   "cell_type": "code",
   "execution_count": null,
   "metadata": {},
   "outputs": [],
   "source": []
  }
 ],
 "metadata": {
  "kernelspec": {
   "display_name": "Python 3",
   "language": "python",
   "name": "python3"
  },
  "language_info": {
   "codemirror_mode": {
    "name": "ipython",
    "version": 3
   },
   "file_extension": ".py",
   "mimetype": "text/x-python",
   "name": "python",
   "nbconvert_exporter": "python",
   "pygments_lexer": "ipython3",
   "version": "3.7.6"
  }
 },
 "nbformat": 4,
 "nbformat_minor": 4
}
